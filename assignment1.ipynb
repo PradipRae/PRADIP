{
 "cells": [
  {
   "cell_type": "code",
   "execution_count": 1,
   "id": "c59228ce-6820-4c2e-b463-cc1932af9fa5",
   "metadata": {},
   "outputs": [],
   "source": [
    "# Q1. Create one variable containing-string,list,float,tuple\n"
   ]
  },
  {
   "cell_type": "code",
   "execution_count": 5,
   "id": "51c01f1a-c275-45c9-a97f-b16a7fbc0a11",
   "metadata": {},
   "outputs": [],
   "source": [
    "p=('pradip',5.67)"
   ]
  },
  {
   "cell_type": "code",
   "execution_count": 6,
   "id": "55ce6af3-4935-4cfa-a5df-0c6e8a3ff61b",
   "metadata": {},
   "outputs": [
    {
     "data": {
      "text/plain": [
       "tuple"
      ]
     },
     "execution_count": 6,
     "metadata": {},
     "output_type": "execute_result"
    }
   ],
   "source": [
    "type(p)"
   ]
  },
  {
   "cell_type": "code",
   "execution_count": 7,
   "id": "d01ad6fc-2d6d-4f2f-8933-158adb247fe2",
   "metadata": {},
   "outputs": [],
   "source": [
    "q='pradip'"
   ]
  },
  {
   "cell_type": "code",
   "execution_count": 8,
   "id": "d98b7cdd-e569-4f24-a4ee-1fd8b52710f3",
   "metadata": {},
   "outputs": [
    {
     "data": {
      "text/plain": [
       "str"
      ]
     },
     "execution_count": 8,
     "metadata": {},
     "output_type": "execute_result"
    }
   ],
   "source": [
    "type(q)"
   ]
  },
  {
   "cell_type": "code",
   "execution_count": 9,
   "id": "0535ed9e-110d-448c-9a1c-4ef079f60f76",
   "metadata": {},
   "outputs": [],
   "source": [
    "r=[1,2,True,2.5]"
   ]
  },
  {
   "cell_type": "code",
   "execution_count": 10,
   "id": "9575864d-4dc0-4f88-b48f-175473e26aca",
   "metadata": {},
   "outputs": [
    {
     "data": {
      "text/plain": [
       "list"
      ]
     },
     "execution_count": 10,
     "metadata": {},
     "output_type": "execute_result"
    }
   ],
   "source": [
    "type(r)"
   ]
  },
  {
   "cell_type": "code",
   "execution_count": 11,
   "id": "2c10a826-df8c-414a-a7e0-89d52a8a6017",
   "metadata": {},
   "outputs": [],
   "source": [
    "s=2.5"
   ]
  },
  {
   "cell_type": "code",
   "execution_count": 12,
   "id": "6be2dd9d-cc99-4361-b70a-41787031eccb",
   "metadata": {},
   "outputs": [
    {
     "data": {
      "text/plain": [
       "float"
      ]
     },
     "execution_count": 12,
     "metadata": {},
     "output_type": "execute_result"
    }
   ],
   "source": [
    "type(s)"
   ]
  },
  {
   "cell_type": "code",
   "execution_count": 14,
   "id": "a5ce53d9-079d-46fc-bd7b-52273e0357d4",
   "metadata": {},
   "outputs": [],
   "source": [
    "# Q2. Given are some following variables containing data:\n",
    "#(i) var1=\"\n",
    "#(ii) var 2='[DS,ML,Python]'\n",
    "#(iii) var3 =['DS','ML','Python']\n",
    "#(iv) var4 =1"
   ]
  },
  {
   "cell_type": "code",
   "execution_count": 22,
   "id": "752669f1-303e-4bf9-9e5a-cea571bb4093",
   "metadata": {},
   "outputs": [],
   "source": [
    "var3=['DS','ML','Python']"
   ]
  },
  {
   "cell_type": "code",
   "execution_count": 23,
   "id": "2dd90722-6b7f-4fe1-b3ea-24ca60c4618b",
   "metadata": {},
   "outputs": [
    {
     "data": {
      "text/plain": [
       "list"
      ]
     },
     "execution_count": 23,
     "metadata": {},
     "output_type": "execute_result"
    }
   ],
   "source": [
    "type(var3)"
   ]
  },
  {
   "cell_type": "code",
   "execution_count": 24,
   "id": "ff510f45-3902-4a35-8ac2-66b67af9c05b",
   "metadata": {},
   "outputs": [],
   "source": [
    "var4=1\n"
   ]
  },
  {
   "cell_type": "code",
   "execution_count": 26,
   "id": "3e5bcd1c-a2f4-484a-9dbc-f48698c77136",
   "metadata": {},
   "outputs": [
    {
     "data": {
      "text/plain": [
       "int"
      ]
     },
     "execution_count": 26,
     "metadata": {},
     "output_type": "execute_result"
    }
   ],
   "source": [
    "type(var4)"
   ]
  },
  {
   "cell_type": "code",
   "execution_count": null,
   "id": "33a146bd-a7d7-43e8-9222-6b9c0ce0f076",
   "metadata": {},
   "outputs": [],
   "source": []
  },
  {
   "cell_type": "code",
   "execution_count": null,
   "id": "143f8dcb-07ae-4901-9363-29beae0cca04",
   "metadata": {},
   "outputs": [],
   "source": []
  },
  {
   "cell_type": "code",
   "execution_count": null,
   "id": "5540efce-c8c5-4329-9068-dbfc58fc6c34",
   "metadata": {},
   "outputs": [],
   "source": []
  },
  {
   "cell_type": "code",
   "execution_count": 28,
   "id": "83f12599-8282-44aa-94d4-85ad72d760ac",
   "metadata": {},
   "outputs": [],
   "source": [
    "# Q3. Explain the use of the following operators using an examples\n",
    "#(i) \"/\" it is used for dividing the one variable by another\n",
    "#(ii) \"%\"  it is use to find the remainder ,when one variable divides the other one \n",
    "#(iii) \"//\" it calclates only the numerical value not the decimal decimal part\n",
    "#(iv)\"**\" it is the symbol of power or exponent in programming language\n",
    "# some of their examples are  :"
   ]
  },
  {
   "cell_type": "code",
   "execution_count": 33,
   "id": "211fddbc-9487-4985-87a2-b1ea864cdcc4",
   "metadata": {},
   "outputs": [],
   "source": [
    "a=5\n",
    "b=2\n",
    "c=a/b\n"
   ]
  },
  {
   "cell_type": "code",
   "execution_count": 30,
   "id": "7409920e-2946-4ad7-a859-cbd5ffd6b3a9",
   "metadata": {},
   "outputs": [
    {
     "data": {
      "text/plain": [
       "2.5"
      ]
     },
     "execution_count": 30,
     "metadata": {},
     "output_type": "execute_result"
    }
   ],
   "source": [
    "c"
   ]
  },
  {
   "cell_type": "code",
   "execution_count": 34,
   "id": "3d311811-4cc6-497d-a832-00eeb02fd823",
   "metadata": {},
   "outputs": [
    {
     "data": {
      "text/plain": [
       "1"
      ]
     },
     "execution_count": 34,
     "metadata": {},
     "output_type": "execute_result"
    }
   ],
   "source": [
    "a%b"
   ]
  },
  {
   "cell_type": "code",
   "execution_count": 35,
   "id": "d930e475-50ba-42d6-860a-ed3b28980550",
   "metadata": {},
   "outputs": [
    {
     "data": {
      "text/plain": [
       "2"
      ]
     },
     "execution_count": 35,
     "metadata": {},
     "output_type": "execute_result"
    }
   ],
   "source": [
    "a//b"
   ]
  },
  {
   "cell_type": "code",
   "execution_count": 36,
   "id": "1b225428-dffe-4f7a-854b-50c74ab03630",
   "metadata": {},
   "outputs": [
    {
     "data": {
      "text/plain": [
       "25"
      ]
     },
     "execution_count": 36,
     "metadata": {},
     "output_type": "execute_result"
    }
   ],
   "source": [
    "a**b"
   ]
  },
  {
   "cell_type": "code",
   "execution_count": 37,
   "id": "5868b798-1f87-4ae8-a93d-cb11473e99f5",
   "metadata": {},
   "outputs": [],
   "source": [
    "# Q4. Create a list of length 10 of your choice containing multiple type of data. Using for loop print the element and its data type."
   ]
  },
  {
   "cell_type": "code",
   "execution_count": 39,
   "id": "541366fc-ef7b-45a2-ac3e-3d28a91af6c9",
   "metadata": {},
   "outputs": [],
   "source": [
    "a=[1,2,3,4,'pradip','rai',True,22.57,False,5]"
   ]
  },
  {
   "cell_type": "code",
   "execution_count": 40,
   "id": "6e3d7c25-1eef-4308-884c-bde77502d44c",
   "metadata": {},
   "outputs": [
    {
     "name": "stdout",
     "output_type": "stream",
     "text": [
      "<class 'int'>\n",
      "1\n",
      "<class 'int'>\n",
      "2\n",
      "<class 'int'>\n",
      "3\n",
      "<class 'int'>\n",
      "4\n",
      "<class 'str'>\n",
      "pradip\n",
      "<class 'str'>\n",
      "rai\n",
      "<class 'bool'>\n",
      "True\n",
      "<class 'float'>\n",
      "22.57\n",
      "<class 'bool'>\n",
      "False\n",
      "<class 'int'>\n",
      "5\n"
     ]
    }
   ],
   "source": [
    "for i in a:\n",
    "    print(type(i))\n",
    "    print(i)\n"
   ]
  },
  {
   "cell_type": "code",
   "execution_count": 43,
   "id": "5d6d3762-f376-4ac8-a719-a390effbf478",
   "metadata": {},
   "outputs": [],
   "source": [
    "# Q5. Using a while loop, verify if the number A is purely divisible by number B and if so then how many times it can be divisible."
   ]
  },
  {
   "cell_type": "code",
   "execution_count": null,
   "id": "fdf21ef6-fd35-4ca1-b04c-067d76c94631",
   "metadata": {},
   "outputs": [],
   "source": []
  },
  {
   "cell_type": "code",
   "execution_count": null,
   "id": "51b84d91-2682-4ad5-be57-e749d2fb8a6d",
   "metadata": {},
   "outputs": [],
   "source": []
  },
  {
   "cell_type": "code",
   "execution_count": null,
   "id": "472f0a0c-033f-4fc9-9eef-820424c62a86",
   "metadata": {},
   "outputs": [],
   "source": []
  },
  {
   "cell_type": "code",
   "execution_count": 44,
   "id": "f0a3593a-6f74-48e3-818c-651ba57573eb",
   "metadata": {},
   "outputs": [],
   "source": [
    "# Q6. Create a list containing 25 int type data. Using for loop and if-else condition prin if the element is divisible by 3 or not.\n"
   ]
  },
  {
   "cell_type": "code",
   "execution_count": 55,
   "id": "797efc19-1c4f-45fb-b2f0-f7f64de135a8",
   "metadata": {},
   "outputs": [],
   "source": [
    "a=list(range(1,25))"
   ]
  },
  {
   "cell_type": "code",
   "execution_count": 56,
   "id": "ceb92cda-59d4-4982-9204-072f4137b81d",
   "metadata": {},
   "outputs": [
    {
     "data": {
      "text/plain": [
       "[1,\n",
       " 2,\n",
       " 3,\n",
       " 4,\n",
       " 5,\n",
       " 6,\n",
       " 7,\n",
       " 8,\n",
       " 9,\n",
       " 10,\n",
       " 11,\n",
       " 12,\n",
       " 13,\n",
       " 14,\n",
       " 15,\n",
       " 16,\n",
       " 17,\n",
       " 18,\n",
       " 19,\n",
       " 20,\n",
       " 21,\n",
       " 22,\n",
       " 23,\n",
       " 24]"
      ]
     },
     "execution_count": 56,
     "metadata": {},
     "output_type": "execute_result"
    }
   ],
   "source": [
    "a"
   ]
  },
  {
   "cell_type": "code",
   "execution_count": 75,
   "id": "10f4282c-f32a-443c-8efa-9a549d1cb4f9",
   "metadata": {},
   "outputs": [
    {
     "ename": "TypeError",
     "evalue": "unsupported operand type(s) for //: 'list' and 'int'",
     "output_type": "error",
     "traceback": [
      "\u001b[0;31m---------------------------------------------------------------------------\u001b[0m",
      "\u001b[0;31mTypeError\u001b[0m                                 Traceback (most recent call last)",
      "Cell \u001b[0;32mIn[75], line 2\u001b[0m\n\u001b[1;32m      1\u001b[0m i\u001b[38;5;241m=\u001b[39m[\u001b[38;5;241m1\u001b[39m,\u001b[38;5;241m2\u001b[39m,\u001b[38;5;241m3\u001b[39m,\u001b[38;5;241m4\u001b[39m,\u001b[38;5;241m5\u001b[39m,\u001b[38;5;241m6\u001b[39m,\u001b[38;5;241m7\u001b[39m,\u001b[38;5;241m8\u001b[39m,\u001b[38;5;241m9\u001b[39m,\u001b[38;5;241m10\u001b[39m,\u001b[38;5;241m11\u001b[39m,\u001b[38;5;241m12\u001b[39m,\u001b[38;5;241m13\u001b[39m,\u001b[38;5;241m14\u001b[39m,\u001b[38;5;241m15\u001b[39m,\u001b[38;5;241m16\u001b[39m,\u001b[38;5;241m17\u001b[39m,\u001b[38;5;241m18\u001b[39m,\u001b[38;5;241m19\u001b[39m,\u001b[38;5;241m20\u001b[39m,\u001b[38;5;241m21\u001b[39m,\u001b[38;5;241m22\u001b[39m,\u001b[38;5;241m23\u001b[39m,\u001b[38;5;241m24\u001b[39m,\u001b[38;5;241m25\u001b[39m]\n\u001b[0;32m----> 2\u001b[0m \u001b[38;5;28;01mif\u001b[39;00m \u001b[43mi\u001b[49m\u001b[38;5;241;43m/\u001b[39;49m\u001b[38;5;241;43m/\u001b[39;49m\u001b[38;5;241;43m3\u001b[39;49m:\n\u001b[1;32m      3\u001b[0m     \u001b[38;5;28mprint\u001b[39m(\u001b[38;5;124m\"\u001b[39m\u001b[38;5;124mi is divisible by3\u001b[39m\u001b[38;5;124m\"\u001b[39m)\n\u001b[1;32m      4\u001b[0m \u001b[38;5;28;01melse\u001b[39;00m:\n",
      "\u001b[0;31mTypeError\u001b[0m: unsupported operand type(s) for //: 'list' and 'int'"
     ]
    }
   ],
   "source": [
    "i=[1,2,3,4,5,6,7,8,9,10,11,12,13,14,15,16,17,18,19,20,21,22,23,24,25]\n",
    "if i//3:\n",
    "    print(\"i is divisible by3\")\n",
    "else:\n",
    "    print(\"i is not divisible by 3\")"
   ]
  },
  {
   "cell_type": "code",
   "execution_count": null,
   "id": "17b3a002-b4b5-470c-bd72-8d7ebecce7fc",
   "metadata": {},
   "outputs": [],
   "source": []
  },
  {
   "cell_type": "code",
   "execution_count": null,
   "id": "a5b30d5a-51ef-48d6-9d3c-fd730cdf7429",
   "metadata": {},
   "outputs": [],
   "source": []
  },
  {
   "cell_type": "code",
   "execution_count": null,
   "id": "e751447c-2cec-4d3e-880b-d6fde60dd2c6",
   "metadata": {},
   "outputs": [],
   "source": []
  },
  {
   "cell_type": "code",
   "execution_count": 76,
   "id": "158501b0-7d65-44c9-93da-e390bb8266c6",
   "metadata": {},
   "outputs": [],
   "source": [
    "# Q7. What do you understand by mutable and immutable data type? Give examples for both showing this property."
   ]
  },
  {
   "cell_type": "code",
   "execution_count": null,
   "id": "dfdb3d5d-b7cc-46ab-9a33-70407c3c48ea",
   "metadata": {},
   "outputs": [],
   "source": [
    "# Mutable data type are the data type which allow you to change the value or data in place without affecting the data type .And immutable data type is that which doesnot allow to change the value of the data given.\n",
    "# For ex- \"list\" is a mutable data type on the other hand \"string\" is a immutable data type."
   ]
  }
 ],
 "metadata": {
  "kernelspec": {
   "display_name": "Python 3 (ipykernel)",
   "language": "python",
   "name": "python3"
  },
  "language_info": {
   "codemirror_mode": {
    "name": "ipython",
    "version": 3
   },
   "file_extension": ".py",
   "mimetype": "text/x-python",
   "name": "python",
   "nbconvert_exporter": "python",
   "pygments_lexer": "ipython3",
   "version": "3.10.8"
  }
 },
 "nbformat": 4,
 "nbformat_minor": 5
}
