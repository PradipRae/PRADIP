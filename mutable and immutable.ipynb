{
 "cells": [
  {
   "cell_type": "code",
   "execution_count": 1,
   "id": "84cba4ec-c42a-4002-aedb-d27d91f49792",
   "metadata": {},
   "outputs": [],
   "source": [
    "s=\"pradip\""
   ]
  },
  {
   "cell_type": "code",
   "execution_count": 2,
   "id": "a3ffbba6-22d5-4ad4-87bb-42b9bc1f3985",
   "metadata": {},
   "outputs": [],
   "source": [
    "s1=\"rai\""
   ]
  },
  {
   "cell_type": "code",
   "execution_count": 3,
   "id": "ceffbf03-3f0f-47c6-ac8c-f951c1c1eab7",
   "metadata": {},
   "outputs": [
    {
     "data": {
      "text/plain": [
       "str"
      ]
     },
     "execution_count": 3,
     "metadata": {},
     "output_type": "execute_result"
    }
   ],
   "source": [
    "type(s)"
   ]
  },
  {
   "cell_type": "code",
   "execution_count": 4,
   "id": "657a1dee-0996-4df2-a050-b1b97fdf1bcc",
   "metadata": {},
   "outputs": [
    {
     "data": {
      "text/plain": [
       "str"
      ]
     },
     "execution_count": 4,
     "metadata": {},
     "output_type": "execute_result"
    }
   ],
   "source": [
    "type(s1)"
   ]
  },
  {
   "cell_type": "code",
   "execution_count": 19,
   "id": "3e78205d-5330-4d64-8e06-e27125af7030",
   "metadata": {},
   "outputs": [],
   "source": [
    "a=[2,3,4,5,6,\"pradip\",True,36.3,6+5j]"
   ]
  },
  {
   "cell_type": "code",
   "execution_count": 20,
   "id": "94ab8424-9297-431a-9be2-52487452c2d5",
   "metadata": {},
   "outputs": [
    {
     "data": {
      "text/plain": [
       "list"
      ]
     },
     "execution_count": 20,
     "metadata": {},
     "output_type": "execute_result"
    }
   ],
   "source": [
    "type(a)"
   ]
  },
  {
   "cell_type": "code",
   "execution_count": 23,
   "id": "40c101eb-c210-41bd-a82f-65f672bcfacb",
   "metadata": {},
   "outputs": [],
   "source": [
    "l=[1,2,3,'pradip',True,1j,4546.45]"
   ]
  },
  {
   "cell_type": "code",
   "execution_count": 24,
   "id": "32ea7cc6-1a0a-4162-bb24-e2d402fb5051",
   "metadata": {},
   "outputs": [
    {
     "data": {
      "text/plain": [
       "list"
      ]
     },
     "execution_count": 24,
     "metadata": {},
     "output_type": "execute_result"
    }
   ],
   "source": [
    "type(l)"
   ]
  },
  {
   "cell_type": "code",
   "execution_count": 25,
   "id": "1eca8ebb-b0d2-4c12-ac08-cfa9b35e3944",
   "metadata": {},
   "outputs": [
    {
     "data": {
      "text/plain": [
       "'pradip'"
      ]
     },
     "execution_count": 25,
     "metadata": {},
     "output_type": "execute_result"
    }
   ],
   "source": [
    "s"
   ]
  },
  {
   "cell_type": "code",
   "execution_count": 26,
   "id": "43f9ac90-b39d-4e70-8bda-9e8c381a7abe",
   "metadata": {},
   "outputs": [
    {
     "data": {
      "text/plain": [
       "'pradip'"
      ]
     },
     "execution_count": 26,
     "metadata": {},
     "output_type": "execute_result"
    }
   ],
   "source": [
    "s"
   ]
  },
  {
   "cell_type": "code",
   "execution_count": 27,
   "id": "46c1bccc-0f56-443d-a692-a6a31f2f74df",
   "metadata": {},
   "outputs": [
    {
     "data": {
      "text/plain": [
       "'p'"
      ]
     },
     "execution_count": 27,
     "metadata": {},
     "output_type": "execute_result"
    }
   ],
   "source": [
    "s[0]"
   ]
  },
  {
   "cell_type": "code",
   "execution_count": 28,
   "id": "c7553d75-b8a2-406e-a781-0e1c45ee07a3",
   "metadata": {},
   "outputs": [
    {
     "data": {
      "text/plain": [
       "'d'"
      ]
     },
     "execution_count": 28,
     "metadata": {},
     "output_type": "execute_result"
    }
   ],
   "source": [
    "s[3]"
   ]
  },
  {
   "cell_type": "code",
   "execution_count": 29,
   "id": "72e6ea5d-3c8e-4e53-ba40-2698c8799d08",
   "metadata": {},
   "outputs": [
    {
     "data": {
      "text/plain": [
       "'d'"
      ]
     },
     "execution_count": 29,
     "metadata": {},
     "output_type": "execute_result"
    }
   ],
   "source": [
    "s[-3]"
   ]
  },
  {
   "cell_type": "code",
   "execution_count": 30,
   "id": "9179079a-1ba0-4531-bd94-908c248137ed",
   "metadata": {},
   "outputs": [
    {
     "data": {
      "text/plain": [
       "[1, 2, 3, 'pradip', True, 1j, 4546.45]"
      ]
     },
     "execution_count": 30,
     "metadata": {},
     "output_type": "execute_result"
    }
   ],
   "source": [
    "l"
   ]
  },
  {
   "cell_type": "code",
   "execution_count": 31,
   "id": "b089e1c1-7dae-4fdf-a422-d9bab53c7e48",
   "metadata": {},
   "outputs": [],
   "source": [
    "l[4]=\"PradipRai\""
   ]
  },
  {
   "cell_type": "code",
   "execution_count": 32,
   "id": "ba8601bd-70d2-405a-ba5e-477b4d13f0be",
   "metadata": {},
   "outputs": [
    {
     "data": {
      "text/plain": [
       "[1, 2, 3, 'pradip', 'PradipRai', 1j, 4546.45]"
      ]
     },
     "execution_count": 32,
     "metadata": {},
     "output_type": "execute_result"
    }
   ],
   "source": [
    "l"
   ]
  },
  {
   "cell_type": "code",
   "execution_count": null,
   "id": "32f7ad18-45dd-47a0-bbfe-ae1645499216",
   "metadata": {},
   "outputs": [],
   "source": [
    "s"
   ]
  },
  {
   "cell_type": "code",
   "execution_count": 33,
   "id": "110573ba-6772-4cac-9f97-9d7b766517a2",
   "metadata": {},
   "outputs": [
    {
     "data": {
      "text/plain": [
       "'a'"
      ]
     },
     "execution_count": 33,
     "metadata": {},
     "output_type": "execute_result"
    }
   ],
   "source": [
    "s[2]"
   ]
  },
  {
   "cell_type": "code",
   "execution_count": null,
   "id": "cc0a0243-5e99-4008-afa1-47f88cd0e1b8",
   "metadata": {},
   "outputs": [],
   "source": [
    "s[2]"
   ]
  }
 ],
 "metadata": {
  "kernelspec": {
   "display_name": "Python 3 (ipykernel)",
   "language": "python",
   "name": "python3"
  },
  "language_info": {
   "codemirror_mode": {
    "name": "ipython",
    "version": 3
   },
   "file_extension": ".py",
   "mimetype": "text/x-python",
   "name": "python",
   "nbconvert_exporter": "python",
   "pygments_lexer": "ipython3",
   "version": "3.10.8"
  }
 },
 "nbformat": 4,
 "nbformat_minor": 5
}
